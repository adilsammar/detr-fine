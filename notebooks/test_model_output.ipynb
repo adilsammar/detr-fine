{
 "cells": [
  {
   "cell_type": "code",
   "execution_count": 1,
   "id": "e59b42ff-558d-4b2c-91a2-c08fe5f9d2b2",
   "metadata": {},
   "outputs": [],
   "source": [
    "%load_ext autoreload"
   ]
  },
  {
   "cell_type": "code",
   "execution_count": 2,
   "id": "58e100dd-3ab4-4a93-ae80-ce5364e9cc8a",
   "metadata": {},
   "outputs": [],
   "source": [
    "%autoreload 2"
   ]
  },
  {
   "cell_type": "code",
   "execution_count": 12,
   "id": "bade119d-635d-4e0f-88b8-78f50b2805a0",
   "metadata": {},
   "outputs": [
    {
     "name": "stdout",
     "output_type": "stream",
     "text": [
      "1.9.0+cu111\n"
     ]
    }
   ],
   "source": [
    "import os\n",
    "import numpy as np\n",
    "import torch\n",
    "from pathlib import Path\n",
    "\n",
    "print(torch.__version__)"
   ]
  },
  {
   "cell_type": "code",
   "execution_count": 4,
   "id": "887d987e-ba0c-4d58-92bd-51c1c5cd7c57",
   "metadata": {},
   "outputs": [],
   "source": [
    "os.environ[\"CUDA_DEVICE_ORDER\"] = \"PCI_BUS_ID\"\n",
    "# The GPU id to use, \"0\" to  \"7\"\n",
    "os.environ[\"CUDA_VISIBLE_DEVICES\"] = \"0\"\n",
    "os.environ[\"CUDA_LAUNCH_BLOCKING\"] = \"1\""
   ]
  },
  {
   "cell_type": "code",
   "execution_count": 5,
   "id": "cc004c46-1e3b-4baf-a015-a165c053ceaf",
   "metadata": {},
   "outputs": [],
   "source": [
    "torch.cuda.empty_cache()"
   ]
  },
  {
   "cell_type": "code",
   "execution_count": 7,
   "id": "01dd3224-ede5-4c00-9776-9de0effea19f",
   "metadata": {},
   "outputs": [],
   "source": [
    "import sys\n",
    "\n",
    "# if os.path.join(os.getcwd(), \"detr/\") not in sys.path:\n",
    "#     sys.path.append(os.path.join(os.getcwd(), \"detr/\"))\n",
    "    \n",
    "if os.path.join(os.getcwd(), \"detr-fine/\") not in sys.path:\n",
    "    sys.path.append(os.path.join(os.getcwd(), \"detr-fine/\"))\n",
    "\n",
    "# print(sys.path)"
   ]
  },
  {
   "cell_type": "code",
   "execution_count": null,
   "id": "ba9655c3-9db6-4ec2-923c-322ad90f1127",
   "metadata": {},
   "outputs": [],
   "source": [
    "from main import args\n",
    "import torchvision.transforms as T\n",
    "from model.detr import build_model\n",
    "from PIL import Image\n",
    "import matplotlib.pyplot as plt\n",
    "import math\n",
    "\n",
    "out_dir = Path('./out_dir')\n",
    "impath = Path('./data/images/aac_blocks_2176.jpg')\n",
    "\n",
    "checkpoint = torch.load(out_dir / \"checkpoint.pth\")\n",
    "\n",
    "model, criterion, postprocessors = build_model(args)\n",
    "model.load_state_dict(checkpoint['model'])\n",
    "model.eval();\n",
    "\n",
    "transform = T.Compose([\n",
    "    T.Resize(800),\n",
    "    T.ToTensor(),\n",
    "    T.Normalize([0.485, 0.456, 0.406], [0.229, 0.224, 0.225])\n",
    "])\n",
    "\n",
    "im = Image.open(impath)\n",
    "img = transform(im).unsqueeze(0)\n",
    "out = model(img)\n",
    "\n",
    "result = postprocessors['panoptic'](out, torch.as_tensor(img.shape[-2:]).unsqueeze(0))[0]\n",
    "\n",
    "scores = out[\"pred_logits\"].softmax(-1)[..., :-1].max(-1)[0]\n",
    "# threshold the confidence\n",
    "keep = scores > 0.1\n",
    "\n",
    "keep\n",
    "\n",
    "# Plot all the remaining masks\n",
    "ncols = 2\n",
    "fig, axs = plt.subplots(ncols=ncols, nrows=math.ceil(keep.sum().item() / ncols), figsize=(18, 10))\n",
    "for line in axs:\n",
    "    for a in line:\n",
    "        a.axis('off')\n",
    "for i, mask in enumerate(out[\"pred_masks\"][keep]):\n",
    "    ax = axs[i // ncols, i % ncols]\n",
    "    ax.imshow(mask.detach().numpy(), cmap=\"cividis\")\n",
    "    ax.axis('off')\n",
    "fig.tight_layout()"
   ]
  },
  {
   "cell_type": "code",
   "execution_count": null,
   "id": "37f70255-6096-4e89-a755-be4fdf462822",
   "metadata": {},
   "outputs": [],
   "source": []
  }
 ],
 "metadata": {
  "kernelspec": {
   "display_name": "projects-env",
   "language": "python",
   "name": "projects-env"
  },
  "language_info": {
   "codemirror_mode": {
    "name": "ipython",
    "version": 3
   },
   "file_extension": ".py",
   "mimetype": "text/x-python",
   "name": "python",
   "nbconvert_exporter": "python",
   "pygments_lexer": "ipython3",
   "version": "3.6.9"
  }
 },
 "nbformat": 4,
 "nbformat_minor": 5
}
