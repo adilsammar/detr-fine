{
 "cells": [
  {
   "cell_type": "code",
   "execution_count": 1,
   "id": "0ec4f0bd-2f11-4b2d-84c9-2eece86345c2",
   "metadata": {},
   "outputs": [],
   "source": [
    "import os\n",
    "import json\n",
    "import random\n",
    "import numpy as np\n",
    "\n",
    "random.seed(10)\n",
    "\n",
    "def convert(o):\n",
    "    if isinstance(o, np.generic): return o.item()  \n",
    "    raise TypeError"
   ]
  },
  {
   "cell_type": "code",
   "execution_count": 2,
   "id": "08afa417-2ddb-4566-853e-e39b4d6dd36a",
   "metadata": {},
   "outputs": [],
   "source": [
    "# Global Files\n",
    "\n",
    "ROOT_DIR = './data'\n",
    "\n",
    "COCO_FILE = 'coco.json'\n",
    "PANOPTIC_FILE = 'panoptic.json'\n",
    "\n",
    "VAL_COCO_FILE = 'val_coco.json'\n",
    "VAL_PANOPTIC_FILE = 'val_panoptic.json'"
   ]
  },
  {
   "cell_type": "code",
   "execution_count": 3,
   "id": "76ccb3d9-703d-4eee-a481-cd789df78462",
   "metadata": {},
   "outputs": [],
   "source": [
    "# Read Files\n",
    "\n",
    "with open(os.path.join(ROOT_DIR, COCO_FILE), \"r\") as coco_file:\n",
    "    coco_data = json.load(coco_file)\n",
    "    \n",
    "with open(os.path.join(ROOT_DIR, PANOPTIC_FILE), \"r\") as panoptic_file:\n",
    "    panoptic_data = json.load(panoptic_file)"
   ]
  },
  {
   "cell_type": "code",
   "execution_count": 4,
   "id": "dbf35c80-d5b4-4df7-8146-77dbbaf18f00",
   "metadata": {},
   "outputs": [
    {
     "data": {
      "text/plain": [
       "(10146, 500, 20.292)"
      ]
     },
     "execution_count": 4,
     "metadata": {},
     "output_type": "execute_result"
    }
   ],
   "source": [
    "total_images = len(coco_data['images'])\n",
    "\n",
    "val_images = random.sample(list(range(1, total_images+1)), 500)\n",
    "\n",
    "total_images, len(val_images), total_images/len(val_images)"
   ]
  },
  {
   "cell_type": "code",
   "execution_count": 5,
   "id": "828952cf-09eb-4947-a025-9559c1819edb",
   "metadata": {},
   "outputs": [
    {
     "data": {
      "text/plain": [
       "'[9362, 534, 7027, 7907, 9472, 244, 3377, 7579, 8050, 4547, 2626, 564, 8531, 8030, 5371, 1247, 4096, 5918, 731, 6888, 2273, 9883, 5818, 6253, 6902, 4647, 4298, 7485, 2862, 4967, 5941, 2179, 7487, 3923, 7204, 10049, 6148, 726, 9551, 67, 3861, 2196, 3195, 4963, 8788, 5999, 3936, 5151, 8995, 7384, 7144, 7701, 1065, 9578, 5320, 8224, 2563, 3675, 6765, 3906, 605, 521, 8137, 4935, 9940, 1181, 8741, 1327, 2453, 6299, 9294, 6131, 9852, 1851, 1583, 7235, 2726, 3129, 5713, 7099, 6785, 7301, 4022, 4501, 2352, 10114, 8551, 2924, 1958, 4375, 7467, 4958, 2703, 2856, 2886, 7867, 5695, 5375, 7123, 3665, 83, 8927, 716, 5434, 5234, 3976, 1310, 4289, 7341, 6633, 9550, 2593, 6400, 8123, 3956, 8608, 4452, 8522, 9865, 8191, 1029, 2725, 8019, 7561, 6573, 2225, 6889, 8869, 9584, 5722, 8826, 6355, 8027, 2717, 9155, 7232, 1617, 6803, 579, 47, 7186, 8773, 1064, 829, 5729, 1520, 2491, 1782, 9966, 7440, 7948, 2283, 7515, 7152, 8211, 7326, 5624, 4246, 7508, 6936, 5381, 8515, 8576, 2518, 3889, 5294, 10144, 540, 3205, 9643, 9427, 7848, 409, 1907, 4855, 7133, 4040, 4741, 1459, 758, 9786, 9022, 1731, 4678, 2665, 7821, 2315, 5915, 9751, 6565, 3146, 5733, 2991, 1307, 9691, 3190, 6992, 3404, 1573, 5055, 7599, 8560, 6939, 7334, 9102, 3417, 4357, 9790, 5970, 1900, 127, 3434, 6945, 9991, 6693, 6257, 3273, 1150, 906, 5702, 4173, 5902, 7486, 6950, 3173, 4629, 7647, 4817, 8299, 8183, 8316, 4320, 6629, 7236, 5596, 5718, 4540, 7320, 7816, 9621, 7863, 1376, 8845, 6014, 6640, 2761, 9879, 6812, 9245, 1073, 9758, 5017, 268, 9696, 5369, 5278, 1211, 6497, 10000, 6128, 4626, 9925, 3054, 3947, 2762, 5042, 1564, 9112, 874, 3603, 9340, 6909, 3142, 9332, 9370, 7198, 9723, 263, 6431, 3299, 5560, 9409, 3126, 8566, 9242, 5353, 781, 9475, 822, 599, 9260, 5996, 6505, 5318, 9850, 2809, 2585, 1924, 9930, 5660, 2692, 511, 8794, 8375, 5724, 1446, 6512, 7197, 9469, 5697, 978, 2385, 7287, 7714, 9992, 7400, 7241, 9899, 2869, 5797, 6940, 5626, 8402, 7511, 6361, 3185, 1590, 7093, 2500, 678, 3072, 3116, 7025, 9161, 6163, 818, 9919, 850, 2712, 5095, 3659, 812, 9503, 2896, 1633, 9250, 5906, 3041, 4959, 701, 6485, 9799, 1274, 5659, 3194, 8056, 2668, 2759, 6646, 7672, 5379, 612, 2837, 2887, 9526, 6892, 2509, 8411, 6422, 1545, 6498, 1940, 3852, 1751, 6925, 5093, 4751, 8743, 1624, 5663, 8550, 7786, 9959, 4007, 8725, 4762, 201, 2590, 6331, 3751, 1588, 8361, 7772, 1634, 9453, 6540, 9549, 3570, 4708, 5824, 1143, 3089, 9145, 8704, 428, 1227, 6557, 513, 284, 7055, 5546, 2920, 777, 5873, 5316, 7801, 2804, 309, 3369, 2086, 4739, 3303, 4046, 4037, 6330, 10072, 8930, 6861, 9030, 510, 2054, 90, 2019, 454, 902, 2915, 2043, 6313, 1105, 240, 7111, 2996, 6910, 784, 9039, 2778, 865, 6166, 9473, 7522, 7460, 5502, 3044, 566, 6535, 7534, 8009, 5974, 1156, 2279, 4347, 4149, 2885, 1494, 7549, 218, 2517, 4556, 1288, 8600, 2307, 1713, 8800, 1973, 4715, 10131, 5483, 58, 9434, 4255, 8479, 7007, 8352, 2392, 973, 928, 9975, 989, 3457, 8775, 3505, 2403, 5011, 6864, 2473, 442, 6130, 8458, 1894, 7829]'"
      ]
     },
     "execution_count": 5,
     "metadata": {},
     "output_type": "execute_result"
    }
   ],
   "source": [
    "str(val_images)"
   ]
  },
  {
   "cell_type": "code",
   "execution_count": 6,
   "id": "5957e503-31ce-4777-a43f-27e6a1e2fe5d",
   "metadata": {},
   "outputs": [
    {
     "data": {
      "text/plain": [
       "(dict_keys(['licenses', 'info', 'categories', 'annotations', 'images']),\n",
       " dict_keys(['licenses', 'info', 'categories', 'annotations', 'images']))"
      ]
     },
     "execution_count": 6,
     "metadata": {},
     "output_type": "execute_result"
    }
   ],
   "source": [
    "coco_data.keys(), panoptic_data.keys()"
   ]
  },
  {
   "cell_type": "code",
   "execution_count": 7,
   "id": "0a040de4-16b0-425b-8640-ed68966ed451",
   "metadata": {},
   "outputs": [
    {
     "data": {
      "text/plain": [
       "(dict_keys(['segments_info', 'file_name', 'image_id']),\n",
       " dict_keys(['id', 'image_id', 'category_id', 'segmentation', 'area', 'bbox', 'iscrowd', 'attributes']))"
      ]
     },
     "execution_count": 7,
     "metadata": {},
     "output_type": "execute_result"
    }
   ],
   "source": [
    "panoptic_data['annotations'][0].keys(), coco_data['annotations'][0].keys(), "
   ]
  },
  {
   "cell_type": "code",
   "execution_count": 8,
   "id": "1e0b0fc7-61c8-4e63-827f-f03623115aa0",
   "metadata": {},
   "outputs": [],
   "source": [
    "coco_data_val = {\n",
    "    'licenses': coco_data[\"licenses\"], \n",
    "    'info': coco_data[\"info\"], \n",
    "    'categories': coco_data[\"categories\"],\n",
    "    'images': [],\n",
    "    'annotations': []\n",
    "}\n",
    "\n",
    "panoptic_data_val = {\n",
    "    'licenses': panoptic_data[\"licenses\"], \n",
    "    'info': panoptic_data[\"info\"], \n",
    "    'categories': panoptic_data[\"categories\"],\n",
    "    'images': [],\n",
    "    'annotations': []\n",
    "}"
   ]
  },
  {
   "cell_type": "code",
   "execution_count": 9,
   "id": "9bde4d30-c6c7-4540-a37b-b8850ca86233",
   "metadata": {},
   "outputs": [],
   "source": [
    "for im in coco_data['images']:\n",
    "    if im['id'] in val_images:\n",
    "        coco_data_val['images'].append(im)\n",
    "        panoptic_data_val['images'].append(im)"
   ]
  },
  {
   "cell_type": "code",
   "execution_count": 10,
   "id": "67f86e25-fb09-41d3-b524-a7dc3c36f3f2",
   "metadata": {},
   "outputs": [],
   "source": [
    "for ann in coco_data['annotations']:\n",
    "    if ann['image_id'] in val_images:\n",
    "        coco_data_val['annotations'].append(ann)\n",
    "        \n",
    "for ann in panoptic_data['annotations']:\n",
    "    if ann['image_id'] in val_images:\n",
    "        panoptic_data_val['annotations'].append(ann)"
   ]
  },
  {
   "cell_type": "code",
   "execution_count": 11,
   "id": "d5add72c-7470-44e6-b49b-9251fae46287",
   "metadata": {},
   "outputs": [],
   "source": [
    "# Write Files\n",
    "\n",
    "with open(os.path.join(ROOT_DIR, VAL_COCO_FILE), \"w\") as coco_file_val:\n",
    "    json.dump(coco_data_val, coco_file_val)\n",
    "    \n",
    "with open(os.path.join(ROOT_DIR, VAL_PANOPTIC_FILE), \"w\") as panoptic_file_val:\n",
    "    json.dump(panoptic_data_val, panoptic_file_val, default=convert)"
   ]
  },
  {
   "cell_type": "code",
   "execution_count": null,
   "id": "6845bc8c-9501-4bdd-acea-43cedd7cf3b4",
   "metadata": {},
   "outputs": [],
   "source": []
  }
 ],
 "metadata": {
  "kernelspec": {
   "display_name": "projects-env",
   "language": "python",
   "name": "projects-env"
  },
  "language_info": {
   "codemirror_mode": {
    "name": "ipython",
    "version": 3
   },
   "file_extension": ".py",
   "mimetype": "text/x-python",
   "name": "python",
   "nbconvert_exporter": "python",
   "pygments_lexer": "ipython3",
   "version": "3.6.9"
  }
 },
 "nbformat": 4,
 "nbformat_minor": 5
}
